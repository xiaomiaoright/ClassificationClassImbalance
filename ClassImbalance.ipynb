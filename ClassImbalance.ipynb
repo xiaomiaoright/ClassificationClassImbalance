{
 "metadata": {
  "language_info": {
   "codemirror_mode": {
    "name": "ipython",
    "version": 3
   },
   "file_extension": ".py",
   "mimetype": "text/x-python",
   "name": "python",
   "nbconvert_exporter": "python",
   "pygments_lexer": "ipython3",
   "version": 3
  },
  "orig_nbformat": 2,
  "kernelspec": {
   "name": "python_defaultSpec_1595606588039",
   "display_name": "Python 3.8.2 64-bit ('ds': conda)"
  }
 },
 "nbformat": 4,
 "nbformat_minor": 2,
 "cells": [
  {
   "cell_type": "markdown",
   "metadata": {},
   "source": [
    "# Class Imbalance\n",
    "Class imbalance is a common situation in real-world application of classification algorithms. This example shows an example of classification class imbalance and methods to deal with it."
   ]
  },
  {
   "cell_type": "markdown",
   "metadata": {},
   "source": [
    "## Dataset\n",
    "The data used in the example is from [UCI Machine Learning Repository](http://archive.ics.uci.edu/ml/datasets/balance+scale). This data set was generated to model psychological experimental results. Each example is classified as having the balance scale tip to the right, tip to the left, or be balanced. The attributes are the left weight, the left distance, the right weight, and the right distance. The correct way to find the class is the greater of (left-distance * left-weight) and (right-distance * right-weight). If they are equal, it is balanced.\n",
    "\n",
    "Attribute Information:\n",
    "\n",
    "1. Class Name: 3 (L, B, R)\n",
    "2. Left-Weight: 5 (1, 2, 3, 4, 5)\n",
    "3. Left-Distance: 5 (1, 2, 3, 4, 5)\n",
    "4. Right-Weight: 5 (1, 2, 3, 4, 5)\n",
    "5. Right-Distance: 5 (1, 2, 3, 4, 5)\n"
   ]
  },
  {
   "cell_type": "markdown",
   "metadata": {},
   "source": [
    "## Load dataset and package"
   ]
  },
  {
   "cell_type": "code",
   "execution_count": 1,
   "metadata": {},
   "outputs": [],
   "source": [
    "import numpy as np\n",
    "import pandas as pd\n",
    "import matplotlib.pyplot as plt\n",
    "import seaborn as sns\n",
    "sns.set()"
   ]
  },
  {
   "cell_type": "code",
   "execution_count": 4,
   "metadata": {},
   "outputs": [
    {
     "output_type": "execute_result",
     "data": {
      "text/plain": "  balance  Left_Weight  Left_Distance  Right_Weight  Right_Distance\n0       B            1              1             1               1\n1       R            1              1             1               2\n2       R            1              1             1               3\n3       R            1              1             1               4\n4       R            1              1             1               5",
      "text/html": "<div>\n<style scoped>\n    .dataframe tbody tr th:only-of-type {\n        vertical-align: middle;\n    }\n\n    .dataframe tbody tr th {\n        vertical-align: top;\n    }\n\n    .dataframe thead th {\n        text-align: right;\n    }\n</style>\n<table border=\"1\" class=\"dataframe\">\n  <thead>\n    <tr style=\"text-align: right;\">\n      <th></th>\n      <th>balance</th>\n      <th>Left_Weight</th>\n      <th>Left_Distance</th>\n      <th>Right_Weight</th>\n      <th>Right_Distance</th>\n    </tr>\n  </thead>\n  <tbody>\n    <tr>\n      <th>0</th>\n      <td>B</td>\n      <td>1</td>\n      <td>1</td>\n      <td>1</td>\n      <td>1</td>\n    </tr>\n    <tr>\n      <th>1</th>\n      <td>R</td>\n      <td>1</td>\n      <td>1</td>\n      <td>1</td>\n      <td>2</td>\n    </tr>\n    <tr>\n      <th>2</th>\n      <td>R</td>\n      <td>1</td>\n      <td>1</td>\n      <td>1</td>\n      <td>3</td>\n    </tr>\n    <tr>\n      <th>3</th>\n      <td>R</td>\n      <td>1</td>\n      <td>1</td>\n      <td>1</td>\n      <td>4</td>\n    </tr>\n    <tr>\n      <th>4</th>\n      <td>R</td>\n      <td>1</td>\n      <td>1</td>\n      <td>1</td>\n      <td>5</td>\n    </tr>\n  </tbody>\n</table>\n</div>"
     },
     "metadata": {},
     "execution_count": 4
    }
   ],
   "source": [
    "df = pd.read_csv('http://archive.ics.uci.edu/ml/machine-learning-databases/balance-scale/balance-scale.data', names=['balance','Left_Weight','Left_Distance','Right_Weight','Right_Distance'])\n",
    "df.head()"
   ]
  },
  {
   "cell_type": "markdown",
   "metadata": {},
   "source": [
    "**Review the class weight**"
   ]
  },
  {
   "cell_type": "code",
   "execution_count": 5,
   "metadata": {},
   "outputs": [
    {
     "output_type": "execute_result",
     "data": {
      "text/plain": "R    0.4608\nL    0.4608\nB    0.0784\nName: balance, dtype: float64"
     },
     "metadata": {},
     "execution_count": 5
    }
   ],
   "source": [
    "df['balance'].value_counts(normalize=True)"
   ]
  },
  {
   "cell_type": "markdown",
   "metadata": {},
   "source": [
    "**Update the three classes to balance or imblance two classes**"
   ]
  },
  {
   "cell_type": "code",
   "execution_count": 6,
   "metadata": {},
   "outputs": [
    {
     "output_type": "execute_result",
     "data": {
      "text/plain": "0    0.9216\n1    0.0784\nName: balance, dtype: float64"
     },
     "metadata": {},
     "execution_count": 6
    }
   ],
   "source": [
    "df['balance'] = [1 if b =='B' else 0 for b in df['balance']]\n",
    "df['balance'].value_counts(normalize=True)"
   ]
  },
  {
   "cell_type": "markdown",
   "metadata": {},
   "source": [
    "## Example\n",
    "\n",
    "of applying classification algorithms directly to imbalanced dataset"
   ]
  },
  {
   "cell_type": "code",
   "execution_count": 19,
   "metadata": {},
   "outputs": [],
   "source": [
    "from sklearn.linear_model import LogisticRegression\n",
    "from sklearn.metrics import accuracy_score, confusion_matrix, roc_curve, auc, f1_score, classification_report, precision_score, recall_score"
   ]
  },
  {
   "cell_type": "code",
   "execution_count": 10,
   "metadata": {
    "tags": []
   },
   "outputs": [
    {
     "output_type": "stream",
     "name": "stdout",
     "text": "accuracy score:  0.9216\n\n confusion matrix: \n"
    },
    {
     "output_type": "execute_result",
     "data": {
      "text/plain": "array([[576,   0],\n       [ 49,   0]], dtype=int64)"
     },
     "metadata": {},
     "execution_count": 10
    }
   ],
   "source": [
    "# Get training set with input and output\n",
    "y = df.balance\n",
    "X = df.drop('balance', axis=1)\n",
    "\n",
    "# train model\n",
    "clf = LogisticRegression().fit(X,y)\n",
    "\n",
    "# predict \n",
    "y_pred = clf.predict(X)\n",
    "\n",
    "# print result\n",
    "print(\"accuracy score: \", accuracy_score(y, y_pred))\n",
    "print(\"\\n confusion matrix: \")\n",
    "confusion_matrix(y,y_pred)"
   ]
  },
  {
   "cell_type": "code",
   "execution_count": 12,
   "metadata": {},
   "outputs": [
    {
     "output_type": "execute_result",
     "data": {
      "text/plain": "array([0], dtype=int64)"
     },
     "metadata": {},
     "execution_count": 12
    }
   ],
   "source": [
    "np.unique(y_pred)"
   ]
  },
  {
   "cell_type": "code",
   "execution_count": 14,
   "metadata": {},
   "outputs": [
    {
     "output_type": "execute_result",
     "data": {
      "text/plain": "(array([0., 1.]), array([0., 1.]), array([1, 0], dtype=int64))"
     },
     "metadata": {},
     "execution_count": 14
    }
   ],
   "source": [
    "roc_curve(y, y_pred)"
   ]
  },
  {
   "cell_type": "code",
   "execution_count": 17,
   "metadata": {
    "tags": []
   },
   "outputs": [
    {
     "output_type": "stream",
     "name": "stdout",
     "text": "precision    recall  f1-score   support\n\n           0       0.92      1.00      0.96       576\n           1       0.00      0.00      0.00        49\n\n    accuracy                           0.92       625\n   macro avg       0.46      0.50      0.48       625\nweighted avg       0.85      0.92      0.88       625\n\n"
    }
   ],
   "source": [
    "print(classification_report(y,y_pred))"
   ]
  },
  {
   "cell_type": "code",
   "execution_count": 18,
   "metadata": {},
   "outputs": [
    {
     "output_type": "execute_result",
     "data": {
      "text/plain": "0.0"
     },
     "metadata": {},
     "execution_count": 18
    }
   ],
   "source": [
    "f1_score(y,y_pred)"
   ]
  },
  {
   "cell_type": "code",
   "execution_count": 20,
   "metadata": {},
   "outputs": [
    {
     "output_type": "execute_result",
     "data": {
      "text/plain": "0.0"
     },
     "metadata": {},
     "execution_count": 20
    }
   ],
   "source": [
    "precision_score(y,y_pred)"
   ]
  },
  {
   "cell_type": "code",
   "execution_count": 21,
   "metadata": {},
   "outputs": [
    {
     "output_type": "execute_result",
     "data": {
      "text/plain": "0.0"
     },
     "metadata": {},
     "execution_count": 21
    }
   ],
   "source": [
    "recall_score(y,y_pred)"
   ]
  },
  {
   "cell_type": "markdown",
   "metadata": {},
   "source": [
    "The is the model predictions on the training set. The result shows that all the predictions is predicted to be class 0, which is the majority class. The model is trying to gain the highest accuracy but is completely ignoring the minority class.\n"
   ]
  },
  {
   "cell_type": "markdown",
   "metadata": {},
   "source": [
    "## Upsampling\n",
    "Up-sampling is the process of randomly duplicating observations from the minority class in order to reinforce its signal."
   ]
  },
  {
   "cell_type": "code",
   "execution_count": 22,
   "metadata": {},
   "outputs": [],
   "source": [
    "# Import resample module\n",
    "from sklearn.utils import resample\n"
   ]
  },
  {
   "cell_type": "code",
   "execution_count": 23,
   "metadata": {
    "tags": []
   },
   "outputs": [
    {
     "output_type": "stream",
     "name": "stdout",
     "text": "(576, 5) (49, 5)\n"
    }
   ],
   "source": [
    "# Separate majority and minority samples\n",
    "df_majority = df[df['balance']==0]\n",
    "df_minority = df[df['balance']==1]\n",
    "print(df_majority.shape, df_minority.shape)\n"
   ]
  },
  {
   "cell_type": "code",
   "execution_count": 24,
   "metadata": {
    "tags": []
   },
   "outputs": [
    {
     "output_type": "stream",
     "name": "stdout",
     "text": "(576, 5)\n"
    }
   ],
   "source": [
    "df_minority_upsampled = resample(\n",
    "    df_minority,\n",
    "    replace=True,\n",
    "    n_samples = 576,\n",
    "    random_state = 123\n",
    ")\n",
    "print(df_minority_upsampled.shape)"
   ]
  },
  {
   "cell_type": "code",
   "execution_count": 25,
   "metadata": {},
   "outputs": [],
   "source": [
    "# Combine majority class with upsampled minority class\n",
    "df_upsampled = pd.concat([df_majority, df_minority_upsampled])"
   ]
  },
  {
   "cell_type": "code",
   "execution_count": 26,
   "metadata": {},
   "outputs": [
    {
     "output_type": "execute_result",
     "data": {
      "text/plain": "1    576\n0    576\nName: balance, dtype: int64"
     },
     "metadata": {},
     "execution_count": 26
    }
   ],
   "source": [
    "df_upsampled['balance'].value_counts()"
   ]
  },
  {
   "cell_type": "code",
   "execution_count": 27,
   "metadata": {
    "tags": []
   },
   "outputs": [
    {
     "output_type": "stream",
     "name": "stdout",
     "text": "[0 1]\n              precision    recall  f1-score   support\n\n           0       0.51      0.51      0.51       576\n           1       0.51      0.52      0.52       576\n\n    accuracy                           0.51      1152\n   macro avg       0.51      0.51      0.51      1152\nweighted avg       0.51      0.51      0.51      1152\n\n"
    }
   ],
   "source": [
    "# Separate input features (X) and target variable (y)\n",
    "y = df_upsampled.balance\n",
    "X = df_upsampled.drop('balance', axis=1)\n",
    " \n",
    "# Train model\n",
    "clf_1 = LogisticRegression().fit(X, y)\n",
    " \n",
    "# Predict on training set\n",
    "pred_y_1 = clf_1.predict(X)\n",
    " \n",
    "# Is our model still predicting just one class?\n",
    "print( np.unique( pred_y_1 ) )\n",
    "# [0 1]\n",
    " \n",
    "# How's our accuracy?\n",
    "print( classification_report(y, pred_y_1) )"
   ]
  },
  {
   "cell_type": "code",
   "execution_count": 28,
   "metadata": {},
   "outputs": [
    {
     "output_type": "execute_result",
     "data": {
      "text/plain": "array([[296, 280],\n       [279, 297]], dtype=int64)"
     },
     "metadata": {},
     "execution_count": 28
    }
   ],
   "source": [
    "confusion_matrix(y,pred_y_1)"
   ]
  },
  {
   "cell_type": "markdown",
   "metadata": {},
   "source": [
    "The model is no longer predicting just one class. While the accuracy also took a nosedive, it's now more meaningful as a performance metric."
   ]
  },
  {
   "cell_type": "markdown",
   "metadata": {},
   "source": [
    "## Down-sampling"
   ]
  },
  {
   "cell_type": "code",
   "execution_count": 29,
   "metadata": {},
   "outputs": [
    {
     "output_type": "execute_result",
     "data": {
      "text/plain": "1    49\n0    49\nName: balance, dtype: int64"
     },
     "metadata": {},
     "execution_count": 29
    }
   ],
   "source": [
    "# Separate majority and minority samples\n",
    "df_majority = df[df['balance']==0]\n",
    "df_minority = df[df['balance']==1]\n",
    "\n",
    "df_majority_downsampled = resample(\n",
    "    df_majority,\n",
    "    replace=False,\n",
    "    n_samples=49,\n",
    "    random_state = 123\n",
    ")\n",
    "\n",
    "# Combine minority class with downsampled majority class\n",
    "df_downsampled = pd.concat([df_majority_downsampled, df_minority])\n",
    "\n",
    "df_downsampled.balance.value_counts()"
   ]
  },
  {
   "cell_type": "code",
   "execution_count": 30,
   "metadata": {
    "tags": []
   },
   "outputs": [
    {
     "output_type": "stream",
     "name": "stdout",
     "text": "precision    recall  f1-score   support\n\n           0       0.56      0.59      0.57        49\n           1       0.57      0.53      0.55        49\n\n    accuracy                           0.56        98\n   macro avg       0.56      0.56      0.56        98\nweighted avg       0.56      0.56      0.56        98\n\n"
    }
   ],
   "source": [
    "# Separate input features (X) and target variable (y)\n",
    "y = df_downsampled.balance\n",
    "X = df_downsampled.drop('balance', axis=1)\n",
    " \n",
    "# Train model\n",
    "clf_2 = LogisticRegression().fit(X, y)\n",
    " \n",
    "# Predict on training set\n",
    "pred_y_2 = clf_2.predict(X)\n",
    "print( classification_report(y, pred_y_2) )"
   ]
  },
  {
   "cell_type": "code",
   "execution_count": 31,
   "metadata": {},
   "outputs": [
    {
     "output_type": "execute_result",
     "data": {
      "text/plain": "array([[29, 20],\n       [23, 26]], dtype=int64)"
     },
     "metadata": {},
     "execution_count": 31
    }
   ],
   "source": [
    "confusion_matrix(y, pred_y_2)"
   ]
  },
  {
   "cell_type": "markdown",
   "metadata": {},
   "source": [
    "The model isn't predicting just one class, and the accuracy seems higher."
   ]
  },
  {
   "cell_type": "markdown",
   "metadata": {},
   "source": [
    "## imblearn package for Over-Sampling"
   ]
  },
  {
   "cell_type": "code",
   "execution_count": 32,
   "metadata": {},
   "outputs": [],
   "source": [
    "from imblearn.over_sampling import RandomOverSampler"
   ]
  },
  {
   "cell_type": "code",
   "execution_count": 33,
   "metadata": {},
   "outputs": [],
   "source": [
    "y = df.balance\n",
    "X = df.drop('balance', axis=1)"
   ]
  },
  {
   "cell_type": "code",
   "execution_count": 35,
   "metadata": {},
   "outputs": [],
   "source": [
    "ros = RandomOverSampler(random_state=123)"
   ]
  },
  {
   "cell_type": "code",
   "execution_count": 36,
   "metadata": {},
   "outputs": [],
   "source": [
    "X_resampled, y_resampled = ros.fit_resample(X, y)"
   ]
  },
  {
   "cell_type": "code",
   "execution_count": 40,
   "metadata": {},
   "outputs": [
    {
     "output_type": "execute_result",
     "data": {
      "text/plain": "1    576\n0    576\nName: balance, dtype: int64"
     },
     "metadata": {},
     "execution_count": 40
    }
   ],
   "source": [
    "y_resampled.value_counts()"
   ]
  },
  {
   "cell_type": "code",
   "execution_count": 42,
   "metadata": {
    "tags": []
   },
   "outputs": [
    {
     "output_type": "stream",
     "name": "stdout",
     "text": "accuracy score:  0.5121527777777778\n\n confusion matrix: \n"
    },
    {
     "output_type": "execute_result",
     "data": {
      "text/plain": "array([[292, 284],\n       [278, 298]], dtype=int64)"
     },
     "metadata": {},
     "execution_count": 42
    }
   ],
   "source": [
    "# train model\n",
    "clf = LogisticRegression().fit(X_resampled, y_resampled)\n",
    "\n",
    "# predict \n",
    "y_pred = clf.predict(X_resampled)\n",
    "\n",
    "# print result\n",
    "print(\"accuracy score: \", accuracy_score(y_resampled, y_pred))\n",
    "print(\"\\n confusion matrix: \")\n",
    "confusion_matrix(y_resampled,y_pred)"
   ]
  },
  {
   "cell_type": "code",
   "execution_count": 43,
   "metadata": {
    "tags": []
   },
   "outputs": [
    {
     "output_type": "stream",
     "name": "stdout",
     "text": "accuracy score:  0.5121527777777778\n\n confusion matrix: \n"
    },
    {
     "output_type": "execute_result",
     "data": {
      "text/plain": "array([[292, 284],\n       [278, 298]], dtype=int64)"
     },
     "metadata": {},
     "execution_count": 43
    }
   ],
   "source": [
    "from sklearn.svm import LinearSVC\n",
    "clf = LinearSVC().fit(X_resampled, y_resampled)\n",
    "# predict \n",
    "y_pred = clf.predict(X_resampled)\n",
    "\n",
    "# print result\n",
    "print(\"accuracy score: \", accuracy_score(y_resampled, y_pred))\n",
    "print(\"\\n confusion matrix: \")\n",
    "confusion_matrix(y_resampled,y_pred)"
   ]
  },
  {
   "cell_type": "code",
   "execution_count": 44,
   "metadata": {},
   "outputs": [],
   "source": [
    "from imblearn.over_sampling import SMOTE, ADASYN"
   ]
  },
  {
   "cell_type": "code",
   "execution_count": 51,
   "metadata": {
    "tags": []
   },
   "outputs": [
    {
     "output_type": "stream",
     "name": "stdout",
     "text": "1    576\n0    576\nName: balance, dtype: int64\n\naccuracy score:  0.6041666666666666\n\nconfusion matrix: \n"
    },
    {
     "output_type": "execute_result",
     "data": {
      "text/plain": "array([[332, 244],\n       [212, 364]], dtype=int64)"
     },
     "metadata": {},
     "execution_count": 51
    }
   ],
   "source": [
    "X_resampled, y_resampled = SMOTE().fit_resample(X, y)\n",
    "\n",
    "print(y_resampled.value_counts())\n",
    "\n",
    "clf = LinearSVC().fit(X_resampled, y_resampled)\n",
    "# predict \n",
    "y_pred = clf.predict(X_resampled)\n",
    "\n",
    "# print result\n",
    "print(\"\\naccuracy score: \", accuracy_score(y_resampled, y_pred))\n",
    "print(\"\\nconfusion matrix: \")\n",
    "confusion_matrix(y_resampled,y_pred)"
   ]
  },
  {
   "cell_type": "code",
   "execution_count": 53,
   "metadata": {
    "tags": []
   },
   "outputs": [
    {
     "output_type": "stream",
     "name": "stdout",
     "text": "1    578\n0    576\nName: balance, dtype: int64\n\naccuracy score:  0.5719237435008665\n\nconfusion matrix: \n"
    },
    {
     "output_type": "execute_result",
     "data": {
      "text/plain": "array([[328, 248],\n       [246, 332]], dtype=int64)"
     },
     "metadata": {},
     "execution_count": 53
    }
   ],
   "source": [
    "X_resampled, y_resampled = ADASYN().fit_resample(X, y)\n",
    "\n",
    "print(y_resampled.value_counts())\n",
    "\n",
    "clf = LinearSVC().fit(X_resampled, y_resampled)\n",
    "# predict \n",
    "y_pred = clf.predict(X_resampled)\n",
    "\n",
    "# print result\n",
    "print(\"\\naccuracy score: \", accuracy_score(y_resampled, y_pred))\n",
    "print(\"\\nconfusion matrix: \")\n",
    "confusion_matrix(y_resampled,y_pred)"
   ]
  },
  {
   "cell_type": "code",
   "execution_count": 54,
   "metadata": {
    "tags": []
   },
   "outputs": [
    {
     "output_type": "stream",
     "name": "stdout",
     "text": "1    576\n0    576\nName: balance, dtype: int64\n\naccuracy score:  0.6015625\n\nconfusion matrix: \n"
    },
    {
     "output_type": "execute_result",
     "data": {
      "text/plain": "array([[350, 226],\n       [233, 343]], dtype=int64)"
     },
     "metadata": {},
     "execution_count": 54
    }
   ],
   "source": [
    "from imblearn.over_sampling import BorderlineSMOTE, SVMSMOTE, KMeansSMOTE\n",
    "X_resampled, y_resampled = BorderlineSMOTE().fit_resample(X, y)\n",
    "\n",
    "print(y_resampled.value_counts())\n",
    "\n",
    "clf = LinearSVC().fit(X_resampled, y_resampled)\n",
    "# predict \n",
    "y_pred = clf.predict(X_resampled)\n",
    "\n",
    "# print result\n",
    "print(\"\\naccuracy score: \", accuracy_score(y_resampled, y_pred))\n",
    "print(\"\\nconfusion matrix: \")\n",
    "confusion_matrix(y_resampled,y_pred)"
   ]
  },
  {
   "cell_type": "code",
   "execution_count": 55,
   "metadata": {
    "tags": []
   },
   "outputs": [
    {
     "output_type": "stream",
     "name": "stdout",
     "text": "0    576\n1    343\nName: balance, dtype: int64\n\naccuracy score:  0.6953210010881393\n\nconfusion matrix: \n"
    },
    {
     "output_type": "execute_result",
     "data": {
      "text/plain": "array([[531,  45],\n       [235, 108]], dtype=int64)"
     },
     "metadata": {},
     "execution_count": 55
    }
   ],
   "source": [
    "from imblearn.over_sampling import BorderlineSMOTE, SVMSMOTE, KMeansSMOTE\n",
    "X_resampled, y_resampled = SVMSMOTE().fit_resample(X, y)\n",
    "\n",
    "print(y_resampled.value_counts())\n",
    "\n",
    "clf = LinearSVC().fit(X_resampled, y_resampled)\n",
    "# predict \n",
    "y_pred = clf.predict(X_resampled)\n",
    "\n",
    "# print result\n",
    "print(\"\\naccuracy score: \", accuracy_score(y_resampled, y_pred))\n",
    "print(\"\\nconfusion matrix: \")\n",
    "confusion_matrix(y_resampled,y_pred)"
   ]
  },
  {
   "cell_type": "code",
   "execution_count": 65,
   "metadata": {
    "tags": []
   },
   "outputs": [
    {
     "output_type": "stream",
     "name": "stdout",
     "text": "1    576\n0    576\nName: balance, dtype: int64\n"
    }
   ],
   "source": [
    "from imblearn.over_sampling import BorderlineSMOTE, SVMSMOTE, KMeansSMOTE\n",
    "X_resampled, y_resampled = KMeansSMOTE(cluster_balance_threshold =0.13).fit_resample(X, y)\n",
    "\n",
    "print(y_resampled.value_counts())\n",
    "\n"
   ]
  },
  {
   "cell_type": "code",
   "execution_count": 66,
   "metadata": {
    "tags": []
   },
   "outputs": [
    {
     "output_type": "stream",
     "name": "stdout",
     "text": "\naccuracy score:  0.8784722222222222\n\nconfusion matrix: \n"
    },
    {
     "output_type": "execute_result",
     "data": {
      "text/plain": "array([[471, 105],\n       [ 35, 541]], dtype=int64)"
     },
     "metadata": {},
     "execution_count": 66
    }
   ],
   "source": [
    "clf = LinearSVC().fit(X_resampled, y_resampled)\n",
    "# predict \n",
    "y_pred = clf.predict(X_resampled)\n",
    "\n",
    "# print result\n",
    "print(\"\\naccuracy score: \", accuracy_score(y_resampled, y_pred))\n",
    "print(\"\\nconfusion matrix: \")\n",
    "confusion_matrix(y_resampled,y_pred)"
   ]
  },
  {
   "cell_type": "markdown",
   "metadata": {},
   "source": [
    "## imblearn package for Under-Sampling"
   ]
  },
  {
   "cell_type": "code",
   "execution_count": 67,
   "metadata": {},
   "outputs": [],
   "source": [
    "from imblearn.under_sampling import RandomUnderSampler, AllKNN,CondensedNearestNeighbour"
   ]
  },
  {
   "cell_type": "code",
   "execution_count": 70,
   "metadata": {
    "tags": []
   },
   "outputs": [
    {
     "output_type": "stream",
     "name": "stdout",
     "text": "1    49\n0    49\nName: balance, dtype: int64\n\naccuracy score:  0.5510204081632653\n\nconfusion matrix: \n"
    },
    {
     "output_type": "execute_result",
     "data": {
      "text/plain": "array([[27, 22],\n       [22, 27]], dtype=int64)"
     },
     "metadata": {},
     "execution_count": 70
    }
   ],
   "source": [
    "X_resampled, y_resampled = RandomUnderSampler().fit_resample(X, y)\n",
    "\n",
    "print(y_resampled.value_counts())\n",
    "clf = LinearSVC().fit(X_resampled, y_resampled)\n",
    "# predict \n",
    "y_pred = clf.predict(X_resampled)\n",
    "\n",
    "# print result\n",
    "print(\"\\naccuracy score: \", accuracy_score(y_resampled, y_pred))\n",
    "print(\"\\nconfusion matrix: \")\n",
    "confusion_matrix(y_resampled,y_pred)"
   ]
  },
  {
   "cell_type": "code",
   "execution_count": 71,
   "metadata": {
    "tags": []
   },
   "outputs": [
    {
     "output_type": "stream",
     "name": "stdout",
     "text": "0    435\n1     49\nName: balance, dtype: int64\n\naccuracy score:  0.8987603305785123\n\nconfusion matrix: \n"
    },
    {
     "output_type": "execute_result",
     "data": {
      "text/plain": "array([[435,   0],\n       [ 49,   0]], dtype=int64)"
     },
     "metadata": {},
     "execution_count": 71
    }
   ],
   "source": [
    "X_resampled, y_resampled = AllKNN().fit_resample(X, y)\n",
    "\n",
    "print(y_resampled.value_counts())\n",
    "clf = LinearSVC().fit(X_resampled, y_resampled)\n",
    "# predict \n",
    "y_pred = clf.predict(X_resampled)\n",
    "\n",
    "# print result\n",
    "print(\"\\naccuracy score: \", accuracy_score(y_resampled, y_pred))\n",
    "print(\"\\nconfusion matrix: \")\n",
    "confusion_matrix(y_resampled,y_pred)"
   ]
  },
  {
   "cell_type": "code",
   "execution_count": 72,
   "metadata": {
    "tags": []
   },
   "outputs": [
    {
     "output_type": "stream",
     "name": "stdout",
     "text": "0    115\n1     49\nName: balance, dtype: int64\n\naccuracy score:  0.7012195121951219\n\nconfusion matrix: \n"
    },
    {
     "output_type": "execute_result",
     "data": {
      "text/plain": "array([[115,   0],\n       [ 49,   0]], dtype=int64)"
     },
     "metadata": {},
     "execution_count": 72
    }
   ],
   "source": [
    "X_resampled, y_resampled = CondensedNearestNeighbour().fit_resample(X, y)\n",
    "\n",
    "print(y_resampled.value_counts())\n",
    "clf = LinearSVC().fit(X_resampled, y_resampled)\n",
    "# predict \n",
    "y_pred = clf.predict(X_resampled)\n",
    "\n",
    "# print result\n",
    "print(\"\\naccuracy score: \", accuracy_score(y_resampled, y_pred))\n",
    "print(\"\\nconfusion matrix: \")\n",
    "confusion_matrix(y_resampled,y_pred)"
   ]
  },
  {
   "cell_type": "markdown",
   "metadata": {},
   "source": [
    "## imblearn package for combine"
   ]
  },
  {
   "cell_type": "code",
   "execution_count": 73,
   "metadata": {},
   "outputs": [],
   "source": [
    " from imblearn.combine import SMOTEENN,SMOTETomek"
   ]
  },
  {
   "cell_type": "code",
   "execution_count": 74,
   "metadata": {
    "tags": []
   },
   "outputs": [
    {
     "output_type": "stream",
     "name": "stdout",
     "text": "1    498\n0    397\nName: balance, dtype: int64\n\naccuracy score:  0.6\n\nconfusion matrix: \n"
    },
    {
     "output_type": "execute_result",
     "data": {
      "text/plain": "array([[166, 231],\n       [127, 371]], dtype=int64)"
     },
     "metadata": {},
     "execution_count": 74
    }
   ],
   "source": [
    "X_resampled, y_resampled = SMOTEENN().fit_resample(X, y)\n",
    "\n",
    "print(y_resampled.value_counts())\n",
    "clf = LinearSVC().fit(X_resampled, y_resampled)\n",
    "# predict \n",
    "y_pred = clf.predict(X_resampled)\n",
    "\n",
    "# print result\n",
    "print(\"\\naccuracy score: \", accuracy_score(y_resampled, y_pred))\n",
    "print(\"\\nconfusion matrix: \")\n",
    "confusion_matrix(y_resampled,y_pred)"
   ]
  },
  {
   "cell_type": "code",
   "execution_count": 75,
   "metadata": {
    "tags": []
   },
   "outputs": [
    {
     "output_type": "stream",
     "name": "stdout",
     "text": "1    576\n0    576\nName: balance, dtype: int64\n\naccuracy score:  0.5842013888888888\n\nconfusion matrix: \n"
    },
    {
     "output_type": "execute_result",
     "data": {
      "text/plain": "array([[349, 227],\n       [252, 324]], dtype=int64)"
     },
     "metadata": {},
     "execution_count": 75
    }
   ],
   "source": [
    "X_resampled, y_resampled = SMOTETomek().fit_resample(X, y)\n",
    "\n",
    "print(y_resampled.value_counts())\n",
    "clf = LinearSVC().fit(X_resampled, y_resampled)\n",
    "# predict \n",
    "y_pred = clf.predict(X_resampled)\n",
    "\n",
    "# print result\n",
    "print(\"\\naccuracy score: \", accuracy_score(y_resampled, y_pred))\n",
    "print(\"\\nconfusion matrix: \")\n",
    "confusion_matrix(y_resampled,y_pred)"
   ]
  },
  {
   "cell_type": "markdown",
   "metadata": {},
   "source": [
    "## imbalance.ensemble"
   ]
  },
  {
   "cell_type": "code",
   "execution_count": 84,
   "metadata": {
    "tags": []
   },
   "outputs": [
    {
     "output_type": "stream",
     "name": "stdout",
     "text": "\naccuracy score:  0.6528\n\nconfusion matrix: \n"
    },
    {
     "output_type": "execute_result",
     "data": {
      "text/plain": "array([[359, 217],\n       [  0,  49]], dtype=int64)"
     },
     "metadata": {},
     "execution_count": 84
    }
   ],
   "source": [
    "from imblearn.ensemble import BalancedRandomForestClassifier\n",
    "clf = BalancedRandomForestClassifier(max_depth=10, random_state=0)\n",
    "clf.fit(X, y)\n",
    "y_pred = clf.predict(X)\n",
    "\n",
    "print(\"\\naccuracy score: \", accuracy_score(y, y_pred))\n",
    "print(\"\\nconfusion matrix: \")\n",
    "confusion_matrix(y,y_pred)"
   ]
  },
  {
   "cell_type": "code",
   "execution_count": 85,
   "metadata": {},
   "outputs": [
    {
     "output_type": "execute_result",
     "data": {
      "text/plain": "2"
     },
     "metadata": {},
     "execution_count": 85
    }
   ],
   "source": [
    "clf.n_classes_"
   ]
  },
  {
   "cell_type": "code",
   "execution_count": 87,
   "metadata": {
    "tags": []
   },
   "outputs": [
    {
     "output_type": "stream",
     "name": "stdout",
     "text": "\naccuracy score:  0.8288\n\nconfusion matrix: \n"
    },
    {
     "output_type": "execute_result",
     "data": {
      "text/plain": "array([[471, 105],\n       [  2,  47]], dtype=int64)"
     },
     "metadata": {},
     "execution_count": 87
    }
   ],
   "source": [
    "from imblearn.ensemble import BalancedBaggingClassifier \n",
    "clf = BalancedBaggingClassifier(random_state=0)\n",
    "clf.fit(X, y)\n",
    "y_pred = clf.predict(X)\n",
    "\n",
    "print(\"\\naccuracy score: \", accuracy_score(y, y_pred))\n",
    "print(\"\\nconfusion matrix: \")\n",
    "confusion_matrix(y,y_pred)"
   ]
  },
  {
   "cell_type": "code",
   "execution_count": 88,
   "metadata": {
    "tags": []
   },
   "outputs": [
    {
     "output_type": "stream",
     "name": "stdout",
     "text": "\naccuracy score:  0.368\n\nconfusion matrix: \n"
    },
    {
     "output_type": "execute_result",
     "data": {
      "text/plain": "array([[196, 380],\n       [ 15,  34]], dtype=int64)"
     },
     "metadata": {},
     "execution_count": 88
    }
   ],
   "source": [
    "from imblearn.ensemble import EasyEnsembleClassifier  \n",
    "clf = EasyEnsembleClassifier(random_state=0)\n",
    "clf.fit(X, y)\n",
    "y_pred = clf.predict(X)\n",
    "\n",
    "print(\"\\naccuracy score: \", accuracy_score(y, y_pred))\n",
    "print(\"\\nconfusion matrix: \")\n",
    "confusion_matrix(y,y_pred)"
   ]
  },
  {
   "cell_type": "code",
   "execution_count": null,
   "metadata": {},
   "outputs": [],
   "source": []
  }
 ]
}